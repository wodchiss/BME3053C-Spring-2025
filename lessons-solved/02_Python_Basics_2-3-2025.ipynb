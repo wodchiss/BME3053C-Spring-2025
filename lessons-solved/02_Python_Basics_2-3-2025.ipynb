{
  "cells": [
    {
      "cell_type": "markdown",
      "metadata": {
        "id": "view-in-github",
        "colab_type": "text"
      },
      "source": [
        "<a href=\"https://colab.research.google.com/github/wodchiss/BME3053C-Spring-2025/blob/main/lessons-solved/02_Python_Basics_2-3-2025.ipynb\" target=\"_parent\"><img src=\"https://colab.research.google.com/assets/colab-badge.svg\" alt=\"Open In Colab\"/></a>"
      ]
    },
    {
      "cell_type": "markdown",
      "metadata": {
        "id": "zxMSBUaZoKCY"
      },
      "source": [
        "# BME3053C - Computer Applications for BME\n",
        "\n",
        "<br/>\n",
        "\n",
        "<h1 align=\"center\">Python Basics - Part 1</h1>\n",
        "\n",
        "---\n",
        "\n",
        "<center><h2>Lesson 02</h2></center>\n",
        "\n",
        "\n",
        "[![Open In Colab](https://colab.research.google.com/assets/colab-badge.svg)](https://colab.research.google.com/github/uf-bme/BME3053C-Spring-2025/blob/main/lessons/02_Python_Basics.ipynb)"
      ]
    },
    {
      "cell_type": "code",
      "source": [],
      "metadata": {
        "id": "30WZ1yu8dk8m"
      },
      "execution_count": null,
      "outputs": []
    },
    {
      "cell_type": "markdown",
      "metadata": {
        "id": "QPtjGMBnTz9s"
      },
      "source": [
        "# Variables\n",
        "\n"
      ]
    },
    {
      "cell_type": "markdown",
      "metadata": {
        "id": "XCOVUFhxtRQc"
      },
      "source": [
        "* Enable saving and referencing values throughout an application\n",
        "* The ```=``` symbol is used to assign a value on the right to the name on the left\n",
        "\n",
        "```\n",
        "example_number = 5\n",
        "```\n",
        "\n",
        "\n"
      ]
    },
    {
      "cell_type": "markdown",
      "metadata": {
        "id": "w7K0mVsC3xlw"
      },
      "source": [
        "#### ✏️ **Exercise**  \n",
        " 1. Copy the code above into this cell\n",
        " 2. Click on the variable explorer icon *{x}* in the Colab toolbar and see if your variable is listed.\n"
      ]
    },
    {
      "cell_type": "code",
      "execution_count": null,
      "metadata": {
        "id": "_wSGRYfR0r-4"
      },
      "outputs": [],
      "source": [
        "example_number = 5"
      ]
    },
    {
      "cell_type": "markdown",
      "metadata": {
        "id": "aveXwdgdtcuv"
      },
      "source": [
        "#Functions\n",
        "\n"
      ]
    },
    {
      "cell_type": "markdown",
      "metadata": {
        "id": "FLXrklLd170_"
      },
      "source": [
        "\n",
        "* Enables converting multiple lines of code into a single line that can be reused anywhere\n",
        "* Makes code easier to write, read, and maintain\n",
        "* Helps Python control the scope and lifetime of variables, which improves memory management\n",
        "* Called using the function name, followed by a parentheses (e.g., ```print('hello')```)"
      ]
    },
    {
      "cell_type": "markdown",
      "metadata": {
        "id": "qGQkOolpnvMt"
      },
      "source": [
        "##Creating Functions\n",
        "\n"
      ]
    },
    {
      "cell_type": "markdown",
      "metadata": {
        "id": "IccCaOVgn08M"
      },
      "source": [
        "**Important**: All code inside a function must be indented using tab or four spaces.\n",
        "* Begin the definition of a new function with def, followed by an appropriate name for the function.\n",
        "* Add parentheses ```()``` after the function name.\n",
        "* Inside the parentheses, list any number of input arguments, separated by commas ,, that your function will use (many functions take no arguments).\n",
        "* Add a colon : after the closing parentheses.\n",
        "* If you want the function to output something, add a return statement, followed by the variable or expression you want to return.\n",
        "  * **If you don't return any  A return statement is not necessary!\n",
        "\n",
        "```\n",
        "def add_two_numbers(x,y):\n",
        "      local_var = x + y\n",
        "      return local_var\n",
        "\n",
        "print(add_two_numbers(3,4))\n",
        "```"
      ]
    },
    {
      "cell_type": "markdown",
      "metadata": {
        "id": "D9T9rUTL3fn_"
      },
      "source": [
        "#### ✏️ **Exercise**  \n",
        " 1. Copy the code above into this cell\n",
        " 2. Check if local_var is saved in your variable explorer\n"
      ]
    },
    {
      "cell_type": "code",
      "execution_count": null,
      "metadata": {
        "id": "g7RKZGJl1Wsu"
      },
      "outputs": [],
      "source": [
        "def add_two_numbers(x,y):\n",
        "    local_var = x + y\n",
        "    return local_var\n",
        "\n",
        "print(add_two_numbers(3,4))"
      ]
    },
    {
      "cell_type": "markdown",
      "metadata": {
        "id": "rudBHtsmoIcX"
      },
      "source": [
        "##[Built-in Functions](https://docs.python.org/3/library/functions.html)"
      ]
    },
    {
      "cell_type": "markdown",
      "metadata": {
        "id": "PQ869uHAqFxw"
      },
      "source": [
        "Built-in functions are always available and make it easy to a wide range of tasks, such as:\n",
        "\n",
        "* **Mathematical Operation**s: Functions like round(), sum(), min(), max(), and abs() perform basic mathematical operations on numbers.\n",
        "* **String Manipulation**: Functions like len(), str(), format(), and upper() help manipulate and format strings.\n",
        "\n",
        "* **Type Conversion**: Functions such as int(), float(), str(), and list() convert values from one data type to another.\n",
        "\n",
        "* **Data Structure Operations**: Functions like len(), sorted(), reversed(), and enumerate() help in working with lists, tuples, sets, and dictionaries.\n",
        "\n",
        "* **Input/Output Operations**: Functions such as print() and input() handle basic input and output tasks.\n",
        "\n",
        "* **File Handling**: Functions like open(), read(), write(), and close() manage file operations.\n",
        "\n",
        "* **Iterating and Looping**: Functions like range(), map(), filter(), and zip() assist in looping and applying functions over iterable objects.\n",
        "\n",
        "* **Object Inspection**: Functions such as type(), id(), dir(), and help() are used to inspect objects and get information about them."
      ]
    },
    {
      "cell_type": "code",
      "execution_count": null,
      "metadata": {
        "id": "NrYjwZvbqIT0"
      },
      "outputs": [],
      "source": [
        "#Run this cell and observe the round() function rounding rules.\n",
        "print('2.5 rounded =',round(3.5))\n",
        "print('3.5 rounded =',int(3.6))"
      ]
    },
    {
      "cell_type": "markdown",
      "metadata": {
        "id": "WpDr3ngHvCI4"
      },
      "source": [
        "# Naming Variables and Functions"
      ]
    },
    {
      "cell_type": "markdown",
      "metadata": {
        "id": "t5TJhCZDvFve"
      },
      "source": [
        "* Can contain **only** letters, digits, and underscores (\"_\")\n",
        "* Cannot start with a digit\n",
        "* Try to accurately describe your variables with the smallest number of words possible\n",
        "  * *This requires finding a balance between descriptiveness and conciseness.*\n",
        "    * Understanding the logic behind a script is difficult when names either lack good descriptions or are very long.\n",
        "* Cannot be a python reserved word.\n"
      ]
    },
    {
      "cell_type": "code",
      "execution_count": null,
      "metadata": {
        "id": "elTirIT0wb7v"
      },
      "outputs": [],
      "source": [
        "import keyword\n",
        "\n",
        "print(keyword.kwlist)"
      ]
    },
    {
      "cell_type": "markdown",
      "metadata": {
        "id": "d8fmOow87Y3o"
      },
      "source": [
        "## [snake_case](https://en.wikipedia.org/wiki/Snake_case) Naming Convention\n"
      ]
    },
    {
      "cell_type": "markdown",
      "metadata": {
        "id": "crFbvzPKwJe_"
      },
      "source": [
        "\n",
        "**In this course we will expect everyone to use the [snake_case](https://en.wikipedia.org/wiki/Snake_case) naming convention!**\n",
        "* Describe your variables and functions using lower case words that are separated by an underscore. (i.e., ```example_number = 5```)\n",
        "\n",
        "---\n",
        "\n",
        "**Points will be deducted if this naming convention isn't followed!**\n",
        "\n",
        "---"
      ]
    },
    {
      "cell_type": "markdown",
      "metadata": {
        "id": "42Ftnuz19d64"
      },
      "source": [
        "#### ✏️ **Exercise**  \n",
        "1. Fix the variable name below to make it follow the snake_case naming convention."
      ]
    },
    {
      "cell_type": "code",
      "execution_count": null,
      "metadata": {
        "id": "b7YCzR0XwhQp"
      },
      "outputs": [],
      "source": [
        "randomNumber=19"
      ]
    },
    {
      "cell_type": "markdown",
      "metadata": {
        "id": "tDfFp1gp9ZuB"
      },
      "source": [
        "# Variable Types\n"
      ]
    },
    {
      "cell_type": "markdown",
      "metadata": {
        "id": "NDm434XL0QXn"
      },
      "source": [
        "* Variables can store data of different types\n",
        "* You will receive an error message if you try to combine variables with different types (e.g., ```var=3+\"cat\"```)\n"
      ]
    },
    {
      "cell_type": "markdown",
      "metadata": {
        "id": "OhAO_n8S4yZM"
      },
      "source": [
        "\n",
        "## [Built-in Types](https://docs.python.org/3/library/stdtypes.html)"
      ]
    },
    {
      "cell_type": "markdown",
      "metadata": {
        "id": "Jj_jdX244pKI"
      },
      "source": [
        "\n",
        "|Type Categories|Types|Examples|\n",
        "|---|---|---|\n",
        "|Numeric| [```int```](https://docs.python.org/3/library/functions.html#int),[```float```](https://docs.python.org/3/library/functions.html#float),[```complex```](https://docs.python.org/3/library/functions.html#complex)|```var=2```,```var=2.0```,```var=2+0j```|\n",
        "|Text|[```str```](https://docs.python.org/3/library/stdtypes.html#text-sequence-type-str)|```var=\"hello\"```|\n",
        "|Boolean| [```bool```](https://docs.python.org/3/library/stdtypes.html#boolean-type-bool)|```var=False```|\n",
        "|None|[```NoneType```](https://docs.python.org/3/library/types.html#types.NoneType)|```var=None```|\n",
        "|Sequence|[```list```](https://docs.python.org/3/library/stdtypes.html#lists),[```tuple```](https://docs.python.org/3/library/stdtypes.html#tuples),[```range```](https://docs.python.org/3/library/stdtypes.html#ranges)|```var=[1,2]```,```var=(1,2)```,```var=range(2)```|\n",
        "|Mapping|[```dict```](https://docs.python.org/3/tutorial/datastructures.html#dictionaries)|```var={\"first_name\":\"Pappy\",\"age\":72}```|\n",
        "|Set|[```set```](https://docs.python.org/3/tutorial/datastructures.html#sets),[```frozenset```](https://docs.python.org/3/library/stdtypes.html#frozenset)|```var={\"first_name\",\"age\"}```,```var=frozenset({\"first_name\",\"age\"})```|\n",
        "|Binary|[```bytes```](https://docs.python.org/3/library/stdtypes.html#bytes),[```bytearray```](https://docs.python.org/3/library/stdtypes.html#bytearray),[```memoryview```](https://docs.python.org/3/library/stdtypes.html#memoryview)|```var=b\"test\"```,```var=bytearray(3)```,```var=memoryview(bytes(3))```|"
      ]
    },
    {
      "cell_type": "markdown",
      "metadata": {
        "id": "_6vuTLp3mUQL"
      },
      "source": [
        "##Common Type Details"
      ]
    },
    {
      "cell_type": "markdown",
      "metadata": {
        "id": "Spc35-l-nJ2T"
      },
      "source": [
        "### **Numeric**"
      ]
    },
    {
      "cell_type": "markdown",
      "metadata": {
        "id": "YpWMj2b8mKoa"
      },
      "source": [
        "\n",
        "* [```int```](https://docs.python.org/3/library/functions.html#int): Whole numbers without decimal points\n",
        "  * Required when referencing array indices (e.g., ```var[0]``` is okay but ```var[0.0]``` isn't)\n",
        "* [```float```](https://docs.python.org/3/library/functions.html#float): Double-precision floating point numbers that can represent numbers with 15-17 significant digits of precision\n"
      ]
    },
    {
      "cell_type": "markdown",
      "metadata": {
        "id": "YuZRol3xnMnI"
      },
      "source": [
        "### **Text**"
      ]
    },
    {
      "cell_type": "markdown",
      "metadata": {
        "id": "lt_m_FZpnHzK"
      },
      "source": [
        "\n",
        "\n",
        "  * [```str```](https://docs.python.org/3/library/stdtypes.html#text-sequence-type-str):Sequences of characters that are wrapped with ```\"\"``` or ```''```\n",
        "    * The type of quotation used isn't important but you should stay consistent\n"
      ]
    },
    {
      "cell_type": "markdown",
      "metadata": {
        "id": "ykVSM2hly-2N"
      },
      "source": [
        "### **Boolean**"
      ]
    },
    {
      "cell_type": "markdown",
      "metadata": {
        "id": "dWy-lvdPy-AT"
      },
      "source": [
        "\n",
        "  * [```bool```](https://docs.python.org/3/library/stdtypes.html#boolean-type-bool): Similar to a light switch, can  either be True or False\n",
        "  * You can use type casting to convert numbers to bool and vice versa."
      ]
    },
    {
      "cell_type": "markdown",
      "metadata": {
        "id": "yz12_R7Gzyu7"
      },
      "source": [
        "### **Sequence**"
      ]
    },
    {
      "cell_type": "markdown",
      "metadata": {
        "id": "nbk9v1j8zy18"
      },
      "source": [
        "\n",
        "  * [```list```](https://docs.python.org/3/library/stdtypes.html#lists): lists of objects that can be modified after creating (lists are mutable)\n",
        "    * Elements in a list can be referenced using brackets ```[]```\n",
        "      * ```A[0]``` will reference the first element of the list (sequences start at 0 in Python and 1 in MATLAB)\n",
        "      * ```A[-1]``` will reference the last element in a list\n",
        "      * ```ints``` must be used to reference specific elements in a list (```x[0.0]``` will return an error)"
      ]
    },
    {
      "cell_type": "markdown",
      "metadata": {
        "id": "Avwzgj-B22X_"
      },
      "source": [
        "#### Checking an Object's Type\n",
        "**Python provides a ```type()``` function that can be used to check a variable's type**"
      ]
    },
    {
      "cell_type": "code",
      "execution_count": null,
      "metadata": {
        "id": "6719Af3t3GiA"
      },
      "outputs": [],
      "source": [
        "print(type(2))\n",
        "print(type(2.0))"
      ]
    },
    {
      "cell_type": "markdown",
      "metadata": {
        "id": "lFjABdpS5ev4"
      },
      "source": [
        "## Type Casting"
      ]
    },
    {
      "cell_type": "markdown",
      "metadata": {
        "id": "5F0zx9Fp5rHJ"
      },
      "source": [
        "### Implicit Type Casting\n",
        "Python automatically converts data types into another when it's required for a  particular operation."
      ]
    },
    {
      "cell_type": "code",
      "execution_count": null,
      "metadata": {
        "id": "dqNU8WB152En"
      },
      "outputs": [],
      "source": [
        "x = 5\n",
        "y = 3.3\n",
        "z = x + y\n",
        "\n",
        "\n",
        "print('z =', z)\n",
        "print('x type =',type(x))\n",
        "print('y type =',type(y))\n",
        "print('z type =',type(z))"
      ]
    },
    {
      "cell_type": "markdown",
      "metadata": {
        "id": "gzhQ3-vI6Idp"
      },
      "source": [
        "### Explicit Type Casting\n",
        "Explicit type casting can be used to manually convert a variable to a specific type"
      ]
    },
    {
      "cell_type": "code",
      "execution_count": null,
      "metadata": {
        "id": "HcqXxtaH6nlJ"
      },
      "outputs": [],
      "source": [
        "x = 5\n",
        "y = 3.0\n",
        "\n",
        "z = x + int(y)\n",
        "print('z =', z)\n",
        "print('x type =',type(x))\n",
        "print('y type =',type(y))\n",
        "print('z type =',type(z))"
      ]
    },
    {
      "cell_type": "markdown",
      "metadata": {
        "id": "EsYKOETd8usR"
      },
      "source": [
        "*Casting a float to an integer will always round down!*\n"
      ]
    },
    {
      "cell_type": "code",
      "execution_count": null,
      "metadata": {
        "id": "vOC_EsrN370_"
      },
      "outputs": [],
      "source": [
        "x = 5\n",
        "y = 3.8\n",
        "\n",
        "z = x + int(y)\n",
        "print('z =', z)\n",
        "print('x type =',type(x))\n",
        "print('y type =',type(y))\n",
        "print('z type =',type(z))"
      ]
    },
    {
      "cell_type": "markdown",
      "metadata": {
        "id": "IN6POyrIzP04"
      },
      "source": [
        "#### ✏️ **Exercise**  \n",
        " 1. Change the value of ```my_number``` so that it is false when casted as a bool\n",
        " 2. Cast ```True``` to an ```int``` or ```float``` and print the value.\n"
      ]
    },
    {
      "cell_type": "code",
      "execution_count": null,
      "metadata": {
        "id": "9KyeLEbTzUPq"
      },
      "outputs": [],
      "source": [
        "my_number=0\n"
      ]
    },
    {
      "cell_type": "markdown",
      "metadata": {
        "id": "SlDPyxTXie8P"
      },
      "source": [
        "#Order of Operations\n",
        "Python follows PEMDAS rules when evaluating complex expressions"
      ]
    },
    {
      "cell_type": "markdown",
      "metadata": {
        "id": "ewnqYZt0i2ng"
      },
      "source": [
        "<center><img  src=\"https://github.com/snsie/aicc24/raw/main/graphics/pemdas.gif\" alt='Colab Features'/></center>"
      ]
    },
    {
      "cell_type": "markdown",
      "metadata": {
        "id": "sbB6iVy5kag8"
      },
      "source": [
        "#### ✏️ **Exercise**\n",
        "\n",
        "1. Create a function that computes this expression when called: $\\frac{19 - 4^3}{5}$.\n",
        "\n",
        "* **Hint #1:** $4^3$ can be written in code as `4**3` (4^3 does not work!).\n",
        "* **Hint #2:** The function should return -9.0.\n",
        "* **Hint #3:** Remember `PEMDAS`.\n",
        "* **Hint #4:** No arguments are needed for this function."
      ]
    },
    {
      "cell_type": "code",
      "execution_count": null,
      "metadata": {
        "id": "qP2vIoMQzhMh"
      },
      "outputs": [],
      "source": []
    },
    {
      "cell_type": "markdown",
      "metadata": {
        "id": "SG-iTZ-7rF1M"
      },
      "source": [
        "### [String Methods](https://docs.python.org/3/library/stdtypes.html#string-methods)\n"
      ]
    },
    {
      "cell_type": "markdown",
      "metadata": {
        "id": "gK0nH1MnrK_P"
      },
      "source": [
        "* Python provides a variety of [String Methods](https://docs.python.org/3/library/stdtypes.html#string-methods) to make it easy modify strings.\n",
        "* String methods are built into stings and be called as shown below:\n",
        "\n"
      ]
    },
    {
      "cell_type": "code",
      "execution_count": null,
      "metadata": {
        "id": "JkSw6MHklHJ4"
      },
      "outputs": [],
      "source": [
        "my_name='00Scott00'.strip('0')\n",
        "\n",
        "print('my_name =',my_name)"
      ]
    },
    {
      "cell_type": "markdown",
      "metadata": {
        "id": "Q5Mr3tZkdkoj"
      },
      "source": [
        "#### ✏️**Exercise**\n",
        "1. Use python string methods to replace ```Wasps``` with something else you love.\n",
        "\n",
        "\n",
        " * **Hint #1:** ```replace``` is a good method for this task\n",
        " * **Hint #2:** ```replace``` does not mutate the original string!\n",
        " * **Hint #2:** Character patterns are case sensitive"
      ]
    },
    {
      "cell_type": "code",
      "execution_count": null,
      "metadata": {
        "id": "HdP0Xo_jdkoj"
      },
      "outputs": [],
      "source": [
        "fav_animal_str=\"I love Wasps!\"\n",
        "\n",
        "print(fav_animal_str)"
      ]
    },
    {
      "cell_type": "markdown",
      "metadata": {
        "id": "r8FllDvDdkoj"
      },
      "source": [
        "### [Slicing](https://python-reference.readthedocs.io/en/latest/docs/brackets/slicing.html) Sequences\n"
      ]
    },
    {
      "cell_type": "markdown",
      "metadata": {
        "id": "WfzOUVZQdkoj"
      },
      "source": [
        "\n",
        "You can use slicing to reference multiple elements in a sequence.\n",
        "\n",
        "```\n",
        "sequence[start:stop[:step]]\n",
        "```\n",
        "\n",
        "* **start**\n",
        "  * **(Optional)** Defaults to 0\n",
        "  * Starting index of the slice\n",
        "* **stop**\n",
        "  * **(Optional)** Defaults to ```len(sequence)```\n",
        "  * The last index (exclusive) of the slice\n",
        "  * Because ```stop``` is exclusive, ```my_list[:3]``` will return the 0th, 1st, and 2nd element.  \n",
        "* **step**\n",
        "  * **(Optional)** Step value of the slice\n",
        "  * Defaults to 1\n"
      ]
    },
    {
      "cell_type": "markdown",
      "metadata": {
        "id": "25gzwzo3dkoj"
      },
      "source": [
        "#### ✏️ **Exercise**  \n",
        " 1. Print the last three elements of the list below.\n",
        " 2. Use slicing to create the following list: ```new_list=[5,8,2]```\n"
      ]
    },
    {
      "cell_type": "code",
      "execution_count": null,
      "metadata": {
        "id": "31bt4jlPdkoj"
      },
      "outputs": [],
      "source": [
        "my_list=[3,5,7,8,1,2]"
      ]
    },
    {
      "cell_type": "markdown",
      "metadata": {
        "id": "3fgLN-Zjdkoj"
      },
      "source": [
        "### Copying Arrays\n"
      ]
    },
    {
      "cell_type": "markdown",
      "metadata": {
        "id": "omBXcKqodkoj"
      },
      "source": [
        "* When you set one array equal to another using ```=```, you are not creating a new copy of the list. **Instead, you're creating a new reference to the same list.**\n",
        "*  **Modifying the new list will modify the old list!**\n",
        "* You can prevent this by setting the new array equal to the *elements* in the old array (i.e., list2=list1[:]), or using the copy library that is built into python.\n",
        "\n",
        "```\n",
        "import copy\n",
        "list2=copy.deepcopy(list1)\n",
        "```\n",
        "\n",
        "**This is an important thing to keep in mind when working with data structures!** Your functions may behave unexpectedly if you don't keep this in mind!\n",
        "\n"
      ]
    },
    {
      "cell_type": "code",
      "execution_count": null,
      "metadata": {
        "id": "NowrNQNldkoj"
      },
      "outputs": [],
      "source": [
        "# Issues with setting list2 equal to list1\n",
        "list1 = [1, 2, 3]\n",
        "list2 = list1\n",
        "list2.append(4)\n",
        "\n",
        "print(list1)\n",
        "print(list2)"
      ]
    },
    {
      "cell_type": "code",
      "execution_count": null,
      "metadata": {
        "id": "uSsReMLjdkoj"
      },
      "outputs": [],
      "source": [
        "list1 = [1, 2, 3]\n",
        "import copy\n",
        "\n",
        "\n",
        "list2 = copy.deepcopy(list1)\n",
        "list2.append(4)\n",
        "\n",
        "print(list1)\n",
        "print(list2)"
      ]
    },
    {
      "cell_type": "markdown",
      "metadata": {
        "id": "NX6dWvxzWfRx"
      },
      "source": [
        "# Control Flow Tools"
      ]
    },
    {
      "cell_type": "markdown",
      "metadata": {
        "id": "MiBCUrbcW-Ru"
      },
      "source": [
        "## [```if``` Statements](https://docs.python.org/3/tutorial/controlflow.html#if-statements)"
      ]
    },
    {
      "cell_type": "markdown",
      "metadata": {
        "id": "lx4frFPOXwL0"
      },
      "source": [
        "* Allow you to execute a block of code only if a specified condition is true.\n",
        "* An ```if``` statement starts with the keyword ```if```, followed by a condition, and a colon ```:```. The indented block of code below it runs if the condition evaluates to True.\n",
        "```\n",
        "if condition1:\n",
        "    print('condition1 is',True)\n",
        "```\n",
        "* You can extend if statements with ```else``` for an alternative action if the condition is false, or use ```elif``` (short for \"else if\") to check additional conditions in sequence.\n",
        "  * If multiple ```elif``` conditions are True, only the code in the first True ```elif``` will be run\n",
        "   \n",
        "```\n",
        "x = int(input(\"Please enter an integer: \"))\n",
        "if x < 0:\n",
        "    print('Input is less than zero')\n",
        "elif x == 0:\n",
        "    print('Input equals zero')\n",
        "elif x > 0:\n",
        "    print('Input is greater than zero')\n",
        "else:\n",
        "    print(ValueError(\"x is not an integer\"))\n",
        "```\n",
        "\n",
        "* **Combining Conditions**: The ```and``` operator is used to combine multiple conditions in an if statement, requiring all conditions to be true for the overall condition to be true. For example, ```if condition1 and condition2:``` only executes the block if both condition1 and condition2 are true.\n",
        "  * ```&``` can be used instead of ```and```.\n",
        "* **Evaluating Alternatives**: The ```or``` operator allows you to execute a block of code if at least one of the conditions is true. For example, ```if condition1 or condition2:``` will run the block if either condition1 or condition2 is true.\n",
        "  * ```|``` can be used instead of ```or```.\n",
        "* **Negating Conditions**: The ```not``` keyword in an ```if``` statement is used to invert a condition, making the block of code execute only if the condition is false. For example, ```if not condition:``` will run the block if condition evaluates to False.\n"
      ]
    },
    {
      "cell_type": "markdown",
      "metadata": {
        "id": "bdHBLkTLdeJl"
      },
      "source": [
        "###Comparison Opperators"
      ]
    },
    {
      "cell_type": "markdown",
      "metadata": {
        "id": "tkdQAguSdg0_"
      },
      "source": [
        "|Operator|Definition|\n",
        "|-----|-----|\n",
        "| < | less than|\n",
        "| > | greater than |\n",
        "| == | equal to |\n",
        "| <= | less than or equal to|\n",
        "| >= | greater than or equal to |\n",
        "| != | not equal to |"
      ]
    },
    {
      "cell_type": "markdown",
      "metadata": {
        "id": "9k_qgUP1hrwq"
      },
      "source": [
        "#### ✏️**Exercise**\n",
        "In the US, most high school students are between the ages of 14 and 18.\n",
        "\n",
        "1. Create a function that receives a person's age as a user [```input```](https://docs.python.org/3/library/functions.html#input) and informs you if the person is \"likely in high school\" or \"too young\" or \"too old\".\n",
        "2. The function should inform you if \"The provided age isn't valid\" (e.g., if the input isn't a valid number)\n",
        "\n",
        "\n",
        "* **Hint #1:** The [```input```](https://docs.python.org/3/library/functions.html#input) function can be used to receive an input **as a string**."
      ]
    },
    {
      "cell_type": "code",
      "execution_count": null,
      "metadata": {
        "id": "-KlifLrWlzmh",
        "outputId": "8b461e9e-0066-4303-c1a4-4748fd90cf77",
        "colab": {
          "base_uri": "https://localhost:8080/"
        }
      },
      "outputs": [
        {
          "output_type": "stream",
          "name": "stdout",
          "text": [
            "Input age: 17\n",
            "likely in high school\n"
          ]
        }
      ],
      "source": [
        "input_age = int(input('Input age: '))\n",
        "\n",
        "def age_ck(input_age):\n",
        "  if input_age >= 14 and input_age <= 18:\n",
        "    print('likely in high school')\n",
        "  elif input_age < 14:\n",
        "    print('too young')\n",
        "  else:\n",
        "    print('too old')\n",
        "\n",
        "age_ck(input_age)\n",
        "\n"
      ]
    },
    {
      "cell_type": "markdown",
      "metadata": {
        "id": "91LckqTYe2DW"
      },
      "source": [
        "###  Conditions > 2\n",
        "* If more than two conditions are required to be true for some code to run, then parentheses ```()``` should be used to group conditions. For example, ```if condition1 and (condition2 or not condition3):``` enables nuanced decision-making by combining and nesting conditions within a single statement.\n",
        "* Parentheses are not required if all conditions need to be true (```condition1 and condition2 and condition3```)  or only one condition needs to be true (```condition1 or condition2 or condition3```)\n"
      ]
    },
    {
      "cell_type": "markdown",
      "metadata": {
        "id": "Pa5ihhEph_2A"
      },
      "source": [
        "#### ✏️**Exercise**\n",
        "\n",
        "You are writing a program that determines whether a student qualifies for an honors program based on their grades and extracurricular activities. The criteria for qualification are as follows:\n",
        "\n",
        "* The student must have an average grade of at least 85, **and**\n",
        "* The student must either:\n",
        "  * Be involved in at least 2 extracurricular activities, **or**\n",
        "  * Have an average grade of at least 90.\n",
        "\n",
        "1. Write a function that checks if a student qualifies for the honors program based on these criteria.\n"
      ]
    },
    {
      "cell_type": "code",
      "execution_count": null,
      "metadata": {
        "id": "08ZofhlsXQ-B",
        "outputId": "aac12bb0-3879-4fe7-b962-0f34014d383a",
        "colab": {
          "base_uri": "https://localhost:8080/"
        }
      },
      "outputs": [
        {
          "output_type": "stream",
          "name": "stdout",
          "text": [
            "You qualify for honors!\n"
          ]
        }
      ],
      "source": [
        "# Example values\n",
        "average_grade = 86\n",
        "num_activities = 2\n",
        "\n",
        "def check_honors_qualification(average_grade, num_activities):\n",
        "  if average_grade >= 85 and (average_grade >= 90 or num_activities >= 2):\n",
        "    print('You qualify for honors!')\n",
        "  else:\n",
        "    print('You do not qualify for honors!')\n",
        "\n",
        "check_honors_qualification(average_grade, num_activities)\n"
      ]
    },
    {
      "cell_type": "markdown",
      "metadata": {
        "id": "NDz4Cd2LaVoX"
      },
      "source": [
        "## [```match``` Statements](https://docs.python.org/3/tutorial/controlflow.html#match-statements)"
      ]
    },
    {
      "cell_type": "markdown",
      "metadata": {
        "id": "PdSxiYxVhPm9"
      },
      "source": [
        "* The ```match``` statements can be used to handle multiple conditions by matching the expression against various patterns defined in ```case``` clauses.\n",
        "\n",
        "```\n",
        "def http_error(status):\n",
        "    match status:\n",
        "        case 400:\n",
        "            return \"Bad request\"\n",
        "        case 404:\n",
        "            return \"Not found\"\n",
        "        case 418:\n",
        "            return \"I'm a teapot\"\n",
        "        case _:\n",
        "            return \"Something's wrong with the internet\"\n",
        "```"
      ]
    },
    {
      "cell_type": "markdown",
      "metadata": {
        "id": "CLLyX1BGmnI5"
      },
      "source": [
        "##```for``` Statements"
      ]
    },
    {
      "cell_type": "markdown",
      "metadata": {
        "id": "ycZI-uocms78"
      },
      "source": [
        "* **Iterating Over Sequences:** A ```for``` loop allows you to iterate over a sequence (like a list, tuple, dictionary, set, or string), executing a block of code for each item in the sequence. This is useful for processing items in a collection one by one.\n",
        "\n",
        "* **Range-Based Loops:** You can use the ```range()``` function in conjunction with a for loop to iterate over a sequence of numbers, which is helpful for repeating actions a specific number of times or when indexing is needed.\n",
        "\n",
        "* **Automatic Unpacking:** In a for loop, Python can automatically unpack elements if they are iterable, like tuples. For example, for key, value in dictionary.items(): lets you directly access the key and value in each iteration, simplifying code that works with pairs of items.\n",
        "\n"
      ]
    },
    {
      "cell_type": "code",
      "execution_count": null,
      "metadata": {
        "id": "ytrs0Tx22CSw",
        "outputId": "09eb7a5f-4f96-4ed1-a53a-928c32e91142",
        "colab": {
          "base_uri": "https://localhost:8080/"
        }
      },
      "outputs": [
        {
          "output_type": "stream",
          "name": "stdout",
          "text": [
            "jack\n",
            "jill\n",
            "joe\n",
            "suzan\n"
          ]
        }
      ],
      "source": [
        "names=['jack','jill','joe','suzan']\n",
        "for name in names:\n",
        "    print(name)"
      ]
    },
    {
      "cell_type": "markdown",
      "metadata": {
        "id": "xdNGyQzVnyO5"
      },
      "source": [
        "#### ✏️**Exercise**\n",
        "1. Create a function that receives an array and returns an array with elements equal to twice the value of the input array.\n",
        "2. The function should inform you if the \"The provided array isn't valid\" (e.g., if the input isn't an array or any of the elements aren't valid numbers)\n",
        "\n",
        "\n",
        " * **Hint #1:** One way to do this is to first create an empty list ```output_list=[]``` and [```append```](https://docs.python.org/3/tutorial/datastructures.html) the modified elements to the new list."
      ]
    },
    {
      "cell_type": "code",
      "execution_count": null,
      "metadata": {
        "id": "0sclM9v0nuFd",
        "outputId": "e8b64bf7-1166-4539-f622-9a7e3033076a",
        "colab": {
          "base_uri": "https://localhost:8080/"
        }
      },
      "outputs": [
        {
          "output_type": "stream",
          "name": "stdout",
          "text": [
            "example_input_array = [5, 8, 2, 7, 0]\n",
            "output_array = [10, 16, 4, 14, 0]\n"
          ]
        }
      ],
      "source": [
        "example_input_array=[5,8,2,7,0]\n",
        "\n",
        "def double_array(example_input_array):\n",
        "  output_list = []\n",
        "  for num in example_input_array:\n",
        "    output_list.append(num * 2)\n",
        "  return output_list\n",
        "\n",
        "output_array = double_array(example_input_array)\n",
        "print(\"example_input_array =\", example_input_array)\n",
        "print(\"output_array =\", output_array)"
      ]
    },
    {
      "cell_type": "markdown",
      "metadata": {
        "id": "6WixXh_D48jK"
      },
      "source": [
        "\n",
        "\n",
        " ### The [```range```](https://docs.python.org/3/tutorial/controlflow.html#the-range-function) Function\n",
        "\n",
        " Immutable sequence of ordered numbers that is commonly used to loop through code a specific number of times in [```for```](https://docs.python.org/3/reference/compound_stmts.html#for) loops\n",
        "\n",
        "* The arguments provided when creating a ```range``` object can be used to set a ```start```, a ```stop```, and a ```step``` interval when creating an ordered list of integers\n",
        "  * Will iterate from\n",
        "  * ```start```: where the sequence will begin (inclusive)\n",
        "    * Defaults to 0\n",
        "  * ```stop```: where the sequence will begin (exclusive)\n",
        "    * No default value\n",
        "  * ```step```:\n",
        "    * defaults to 1\n",
        "    * cannot be 0\n",
        "* The number of arguments provided affects the way they are interpreted.\n",
        "  * ```range(stop)```: Providing a single argument will set the ```stop``` and set ```start``` and ```step``` to their default values.\n",
        "  *  ```range(start,stop)```: Providing two variables will set ```start``` and ```stop```. ```step``` will be set to 1\n",
        "    * prividing a ```stop``` that is higher than the  histep and a single argument will set the ```stop``` and set ```start``` and ```step``` to their default values."
      ]
    },
    {
      "cell_type": "code",
      "execution_count": null,
      "metadata": {
        "id": "MnbaavLBrkB1",
        "outputId": "162796c3-a020-4570-ecb0-677771acb675",
        "colab": {
          "base_uri": "https://localhost:8080/"
        }
      },
      "outputs": [
        {
          "output_type": "stream",
          "name": "stdout",
          "text": [
            "0\n",
            "1\n",
            "2\n",
            "3\n",
            "4\n"
          ]
        }
      ],
      "source": [
        "for i in range(5):\n",
        "  print(i)"
      ]
    },
    {
      "cell_type": "code",
      "execution_count": null,
      "metadata": {
        "id": "7VepGNCAVA0M",
        "outputId": "edb3d323-d20a-4b4d-f196-62765daf0131",
        "colab": {
          "base_uri": "https://localhost:8080/"
        }
      },
      "outputs": [
        {
          "output_type": "stream",
          "name": "stdout",
          "text": [
            "[0, 1, 2, 3, 4] = range(5)\n",
            "[1, 2, 3, 4] = range(1,5)\n",
            "[0, 2, 4] = range(0, 5, 2)\n",
            "[0, 3, 6, 9] = range(0, 10, 3)\n",
            "[0, -1, -2, -3, -4, -5, -6, -7, -8, -9] = range(0, -10, -1)\n",
            "[] = range(0)\n",
            "[] = range(4, 2)\n"
          ]
        }
      ],
      "source": [
        "#From: https://docs.python.org/3/library/stdtypes.html#ranges\n",
        "print(list(range(5)),'= range(5)')\n",
        "\n",
        "print(list(range(1,5)),'= range(1,5)')\n",
        "print(list(range(0, 5, 2)),'= range(0, 5, 2)')\n",
        "print(list(range(0, 10, 3)),'= range(0, 10, 3)')\n",
        "print(list(range(0, -10, -1)),'= range(0, -10, -1)')\n",
        "print(list(range(0)), '= range(0)')\n",
        "print(list(range(4, 2)),'= range(4, 2)')\n"
      ]
    },
    {
      "cell_type": "markdown",
      "metadata": {
        "id": "5VIEgSzypiKM"
      },
      "source": [
        "### ✏️**Exercise**\n",
        "In this exercise, you will analyze a series of respiration rate measurements taken from a patient over time. The goal is to determine how many times the patient's respiration rate was above a critical threshold.\n",
        "\n",
        "A physician measured the amount of breaths a patient took over **30 second** intervals. A respiration rate **above** 20 breaths **per minute** may indicate tachypnea (rapid breathing), which could be a sign of respiratory distress.\n",
        "\n",
        "1. Your task is to measure how long (in minutes) the patient's respiration rate exceeded this threshold using a for loop and range.\n"
      ]
    },
    {
      "cell_type": "code",
      "execution_count": null,
      "metadata": {
        "id": "nEpeifrYqqtv",
        "colab": {
          "base_uri": "https://localhost:8080/"
        },
        "outputId": "fd2a9663-4e8c-4394-9239-b29457b065e5"
      },
      "outputs": [
        {
          "output_type": "stream",
          "name": "stdout",
          "text": [
            "0\n"
          ]
        }
      ],
      "source": [
        "breath_count = [10,8,14,9,10,10,9,11,10,9]\n",
        "\n",
        "def ck_tachypnea():\n",
        "  exc_mins = 0\n",
        "\n",
        "  for i in range(len(breath_count)-1):\n",
        "    curr_breath_ct = breath_count[i]\n",
        "    nxt_breath_ct = breath_count[i+1]\n",
        "    breaths_per_min = curr_breath_ct + nxt_breath_ct\n",
        "\n",
        "    if breaths_per_min > 20:\n",
        "      prev_breath_ct = breath_count[i-1]\n",
        "      prev_breaths = prev_breath_ct + curr_breath_ct\n",
        "      if prev_breaths > 20:\n",
        "        exc_mins += 0.5\n",
        "      else:\n",
        "        exc_mins += 1\n",
        "\n",
        "    return exc_mins\n",
        "\n",
        "\n",
        "print(ck_tachypnea())\n",
        "\n"
      ]
    },
    {
      "cell_type": "markdown",
      "metadata": {
        "id": "H_pHRfz7zazG"
      },
      "source": [
        "## Continue and Break Statements"
      ]
    },
    {
      "cell_type": "markdown",
      "metadata": {
        "id": "oiSqHf8xzqE7"
      },
      "source": [
        "\n",
        "* **continue Statement:** Skips the current iteration of a loop and moves directly to the next iteration, effectively ignoring the remaining code within the loop for that iteration.\n",
        "\n",
        "* **break Statement:** Exits the loop entirely, terminating any further iterations, and proceeds with the code following the loop. It's often used when a certain condition is met and no further processing is needed within the loop."
      ]
    },
    {
      "cell_type": "code",
      "execution_count": null,
      "metadata": {
        "id": "fBoeMcwTzzxa",
        "outputId": "5255b454-0cab-4ff4-cb64-b95eb847c46e",
        "colab": {
          "base_uri": "https://localhost:8080/"
        }
      },
      "outputs": [
        {
          "output_type": "stream",
          "name": "stdout",
          "text": [
            "i = 2\n",
            "i = 3\n",
            "final i = 4\n"
          ]
        }
      ],
      "source": [
        "for i in range(8):\n",
        "  if i < 2:\n",
        "    continue\n",
        "  if i < 4:\n",
        "    print('i =', i)\n",
        "    continue\n",
        "  break\n",
        "print('final i =',i)"
      ]
    },
    {
      "cell_type": "markdown",
      "metadata": {
        "id": "--CUyZnp0Mw-"
      },
      "source": [
        "### ✏️**Exercise**\n",
        "\n",
        "In this exercise, you will simulate the process of monitoring and filtering ECG (electrocardiogram) signal data. Your goal is to analyze the signal for anomalies while filtering out noise. You will use a ```for``` loop to iterate through the data, a ```continue``` statement to skip over noisy data, and a ```break``` statement to stop the analysis if a critical anomaly is detected.\n",
        "\n",
        "You have a list of ECG signal values representing the heart's electrical activity over time. The ECG data may contain some noisy values (e.g., values below 0 or above 200), which should be skipped. If a critical anomaly is detected (e.g., a sudden drop in the signal value **below** 30), the analysis should stop immediately.\n",
        "\n",
        "1. Print each valid ECG value being analyzed and, if the loop is stopped, print a message indicating that a critical anomaly was detected."
      ]
    },
    {
      "cell_type": "code",
      "execution_count": null,
      "metadata": {
        "id": "W8kryIs90YUT",
        "outputId": "c2595b77-b7ee-4c0f-b63d-aaa67a32a497",
        "colab": {
          "base_uri": "https://localhost:8080/"
        }
      },
      "outputs": [
        {
          "output_type": "stream",
          "name": "stdout",
          "text": [
            "120\n",
            "118\n",
            "130\n",
            "30\n",
            "Critical anomaly detected.\n"
          ]
        }
      ],
      "source": [
        "ecg_values = [120, 118, -10, 130, 210, 30, 25, 75, 180, 45, 220]\n",
        "\n",
        "def ecg_analysis(ecg_values):\n",
        "  for i in range(len(ecg_values)):\n",
        "    if ecg_values[i] < 0 or ecg_values[i] > 200:\n",
        "      continue\n",
        "    if ecg_values[i] < 30:\n",
        "      print(\"Critical anomaly detected.\")\n",
        "      break\n",
        "    else:\n",
        "      print(ecg_values[i])\n",
        "  return\n",
        "\n",
        "ecg_analysis(ecg_values)\n"
      ]
    },
    {
      "cell_type": "markdown",
      "metadata": {
        "id": "aBht6-sdIgzI"
      },
      "source": [
        "## ```while``` Statements\n"
      ]
    },
    {
      "cell_type": "markdown",
      "metadata": {
        "id": "L3qFvZgKlrQt"
      },
      "source": [
        "* Repeatedly executes a block of code as long as a specified condition remains true.\n",
        "* Often used when the number of iterations is not known in advance."
      ]
    },
    {
      "cell_type": "code",
      "execution_count": null,
      "metadata": {
        "id": "3GdFBntylvIF"
      },
      "outputs": [],
      "source": [
        "counter = 0\n",
        "while counter < 5:\n",
        "    print(counter)\n",
        "    counter += 1\n",
        "\n",
        "print('final counter',counter)"
      ]
    },
    {
      "cell_type": "markdown",
      "metadata": {
        "id": "_KDD6GUgv7NY"
      },
      "source": [
        "### ✏️**Exercise**\n",
        "\n",
        "In this exercise, you will simulate monitoring blood glucose levels over time. The goal is to continuously check the glucose level and stop monitoring once the glucose level falls within a healthy range.\n",
        "\n",
        "You have a sensor that measures blood glucose levels every minute. Initially, the blood glucose level is above the healthy range, and your task is to continuously check the glucose level until it falls within the desired range (70 to 120 mg/dL). Each time you check, the glucose level decreases by a random amount (simulating the effect of insulin or natural body regulation).\n",
        "\n",
        "1. Set a variable equal to an initial glucose level of 200.\n",
        "2. Simulate a decrease in glucose level by subtracting a random value between 5 and 15 mg/dL.\n",
        "3. Use a ```while``` loop to simulate the continuous monitoring of glucose levels.\n",
        "4. Report how long (in minutes) it took glucose levels to reach a normal range and the glucose level that was measured to be within the expected range.\n",
        "\n",
        "* **Hint #1:** [```random.randint```](https://docs.python.org/3/library/random.html) can be used to simulate a random integer. Look up the function to see how to specify an integer range.\n",
        "* **Hint #2:** Make sure the ```while``` loop is false once the measured glucose level is within the desired range.  \n"
      ]
    },
    {
      "cell_type": "code",
      "execution_count": 6,
      "metadata": {
        "id": "2xrn8Z1GIhRD",
        "outputId": "00f681d5-a2f7-4d7c-81bf-7da486aa8b14",
        "colab": {
          "base_uri": "https://localhost:8080/"
        }
      },
      "outputs": [
        {
          "output_type": "stream",
          "name": "stdout",
          "text": [
            "Final glucose: 119\n",
            "Minutes taken: 8\n"
          ]
        }
      ],
      "source": [
        "import random\n",
        "\n",
        "random.seed(10)\n",
        "\n",
        "init_glucose = 200\n",
        "\n",
        "def glucose_monitor(init_val):\n",
        "  curr_glucose = init_val\n",
        "  durr_mins = 0\n",
        "\n",
        "  while curr_glucose < 70 or curr_glucose > 120:\n",
        "    glucose_dec = random.randint(5,15)\n",
        "    curr_glucose -= glucose_dec\n",
        "    durr_mins += 1\n",
        "\n",
        "  print('Final glucose:', curr_glucose)\n",
        "  print('Minutes taken:', durr_mins)\n",
        "\n",
        "glucose_monitor(init_glucose)\n",
        "\n",
        "\n",
        "\n"
      ]
    },
    {
      "cell_type": "markdown",
      "metadata": {
        "id": "D59PB4COk6PL"
      },
      "source": [
        "# [Handling Exceptions](https://docs.python.org/3/tutorial/errors.html#handling-exceptions)\n",
        " * *try-except* blocks are used to handle exceptions (errors) that may occur during the execution of a program. This helps prevent the program from crashing and allows you to manage errors gracefully.\n",
        "\n",
        "* The code that might cause an exception is placed inside the try block. If an exception occurs, the program immediately jumps to the corresponding except block, where you can define how to handle the error.\n",
        "\n"
      ]
    },
    {
      "cell_type": "code",
      "execution_count": 7,
      "metadata": {
        "id": "Zp--4MYHmMgq",
        "outputId": "96e04b56-c082-4489-d943-2fa2f019b10d",
        "colab": {
          "base_uri": "https://localhost:8080/"
        }
      },
      "outputs": [
        {
          "output_type": "stream",
          "name": "stdout",
          "text": [
            "Enter a number: 2\n",
            "Success! You entered the number 2.\n"
          ]
        }
      ],
      "source": [
        "try:\n",
        "    # Prompt the user to enter a number\n",
        "    user_input = input(\"Enter a number: \")\n",
        "\n",
        "    # Attempt to convert the input to an integer\n",
        "    number = int(user_input)\n",
        "except ValueError:\n",
        "    print(\"Error: That's not a valid number. Please enter a numeric value.\")\n",
        "else:\n",
        "    print(f\"Success! You entered the number {number}.\")\n"
      ]
    },
    {
      "cell_type": "markdown",
      "metadata": {
        "id": "z-4OLIY7TXmX"
      },
      "source": [
        "## [Default Arguments in Funcctions](https://docs.python.org/3/tutorial/controlflow.html#default-argument-values)\n",
        "\n",
        "* Allow you to include optional arguments that will be set to a value if they are not included when calling the function.\n",
        "* Providing the argument will replace the default with your own"
      ]
    },
    {
      "cell_type": "code",
      "execution_count": 9,
      "metadata": {
        "id": "lYfvYf7wULhr",
        "outputId": "ff0230d5-1427-4452-9a26-91a18ed647b1",
        "colab": {
          "base_uri": "https://localhost:8080/"
        }
      },
      "outputs": [
        {
          "output_type": "stream",
          "name": "stdout",
          "text": [
            "cats World!\n"
          ]
        }
      ],
      "source": [
        "def say_hello(greetings = 'Hello', name = \"World\"):\n",
        "  print(greetings, name+\"!\")\n",
        "\n",
        "my_greetings\n",
        "say_hello('cats')"
      ]
    },
    {
      "cell_type": "markdown",
      "metadata": {
        "id": "Eja2I-4zdkol"
      },
      "source": [
        "## [Classes in Python](https://docs.python.org/3/tutorial/classes.html)\n",
        "\n",
        "* Classes are used to create objects that bundle data and functionality together\n",
        "* Classes can have attributes (variables) and methods (functions)\n",
        "* The `__init__` method is a special method that initializes a new object\n",
        "* The `self` parameter refers to the instance being created\n"
      ]
    },
    {
      "cell_type": "markdown",
      "metadata": {
        "id": "HIRPw5R2dkol"
      },
      "source": [
        "#### Here's a basic class example:\n",
        "\n",
        "```\n",
        "class Person:\n",
        "    def __init__(self, name, age):\n",
        "        self.name = name\n",
        "        self.age = age\n",
        "    \n",
        "    def introduce(self):\n",
        "        print(f\"Hi, I'm {self.name} and I'm {self.age} years old.\")\n",
        "\n",
        "# Create and use a Person object\n",
        "person = Person(\"Alice\", 25)\n",
        "person.introduce()\n",
        "```"
      ]
    },
    {
      "cell_type": "markdown",
      "metadata": {
        "id": "-k6vzJsEdkol"
      },
      "source": [
        "### ✏️**Exercise**\n",
        "\n",
        "1. Create a class called `Person` that has an `__init__` method that takes `name` and `age` parameters.\n",
        "2. Add a method called `have_birthday` that increments the person's age by 1.\n",
        "3. Add a method called `introduce` that prints a greeting with the person's name and age.\n",
        "4. Create two `Person` objects and call their methods to test the functionality.\n",
        "  \n"
      ]
    },
    {
      "cell_type": "code",
      "execution_count": null,
      "metadata": {
        "id": "My9bzKPAdkol"
      },
      "outputs": [],
      "source": [
        "class Person:\n",
        "  def __init__(self, name, age):\n",
        "    self.name = name\n",
        "    self.age = age\n",
        "\n",
        "  def introduce(self):\n",
        "    print(f\"Hi, I'm {self.name} and I'm {self.age} years old.\")\n",
        "\n",
        "sophya = Person(\"Sophya\", 19)\n",
        "\n",
        "sophya.introduce()\n",
        "print(sophya.age)"
      ]
    },
    {
      "cell_type": "markdown",
      "metadata": {
        "id": "cDbJt4bedkol"
      },
      "source": [
        "### Class and Instance Variables\n",
        "\n",
        "* Class variables are shared by all instances of a class.\n",
        "* Instance variables are unique to each instance of a class.\n"
      ]
    },
    {
      "cell_type": "markdown",
      "metadata": {
        "id": "eSRs1mfvdkol"
      },
      "source": [
        "```\n",
        "class Dog:\n",
        "\n",
        "    kind = 'canine'         # class variable shared by all instances\n",
        "\n",
        "    def __init__(self, name):\n",
        "        self.name = name    # instance variable unique to each instance\n",
        "\n",
        ">>> d = Dog('Fido')\n",
        ">>> e = Dog('Buddy')\n",
        ">>> d.kind                  # shared by all dogs\n",
        "'canine'\n",
        ">>> e.kind                  # shared by all dogs\n",
        "'canine'\n",
        ">>> d.name                  # unique to d\n",
        "'Fido'\n",
        ">>> e.name                  # unique to e\n",
        "'Buddy'\n",
        "```"
      ]
    },
    {
      "cell_type": "markdown",
      "metadata": {
        "id": "SZ2i6W2-dkom"
      },
      "source": [
        "### Mistaken Use of Class Variables\n",
        "\n",
        "* Class variables are shared by all instances of a class.\n",
        "* If you mistakenly use a class variable instead of an instance variable, it will be shared by all instances of the class.\n",
        "\n"
      ]
    },
    {
      "cell_type": "code",
      "execution_count": null,
      "metadata": {
        "id": "DDWQsUMLdkom"
      },
      "outputs": [],
      "source": [
        "class Dog:\n",
        "\n",
        "    tricks = []             # mistaken use of a class variable\n",
        "\n",
        "    def __init__(self, name):\n",
        "        self.name = name\n",
        "\n",
        "    def add_trick(self, trick):\n",
        "        self.tricks.append(trick)\n",
        "\n",
        "d = Dog('Fido')\n",
        "e = Dog('Buddy')\n",
        "d.add_trick('roll over')\n",
        "e.add_trick('play dead')\n",
        "print(d.tricks)                # unexpectedly shared by"
      ]
    },
    {
      "cell_type": "code",
      "execution_count": null,
      "metadata": {
        "id": "1mcDpvjldkom"
      },
      "outputs": [],
      "source": [
        "class Dog:\n",
        "\n",
        "    def __init__(self, name):\n",
        "        self.name = name\n",
        "        self.tricks = []    # creates a new empty list for each dog\n",
        "\n",
        "    def add_trick(self, trick):\n",
        "        self.tricks.append(trick)\n",
        "\n",
        "d = Dog('Fido')\n",
        "e = Dog('Buddy')\n",
        "d.add_trick('roll over')\n",
        "e.add_trick('play dead')\n",
        "\n",
        "print(d.tricks)\n",
        "print(e.tricks)\n"
      ]
    },
    {
      "cell_type": "markdown",
      "metadata": {
        "id": "jcbwynSldkom"
      },
      "source": [
        "### ✏️**Exercise**\n",
        "\n",
        "#### Creating a Bank Account Class\n",
        "\n",
        "Create a class called `BankAccount` that:\n",
        "1. Takes `account_holder` and `initial_balance` as parameters in the `__init__` method\n",
        "2. Has a method called `deposit(amount)` that adds money to the balance\n",
        "3. Has a method called `withdraw(amount)` that subtracts money from the balance\n",
        "4. Has a method called `get_balance()` that returns the current balance\n",
        "\n",
        "Then create a bank account for \"John Doe\" with an initial balance of $100, deposit $50, withdraw $30, and print the final balance.\n",
        "\n",
        "**Expected Output:**\n",
        "```\n",
        "Initial balance: $100\n",
        "After deposit: $150\n",
        "After withdrawal: $120\n",
        "```\n"
      ]
    },
    {
      "cell_type": "code",
      "execution_count": null,
      "metadata": {
        "id": "SluAV4g2dkom"
      },
      "outputs": [],
      "source": []
    }
  ],
  "metadata": {
    "colab": {
      "provenance": [],
      "include_colab_link": true
    },
    "kernelspec": {
      "display_name": "Python 3.9.7 64-bit",
      "language": "python",
      "name": "python3"
    },
    "language_info": {
      "codemirror_mode": {
        "name": "ipython",
        "version": 3
      },
      "file_extension": ".py",
      "mimetype": "text/x-python",
      "name": "python",
      "nbconvert_exporter": "python",
      "pygments_lexer": "ipython3",
      "version": "3.12.7"
    },
    "orig_nbformat": 4,
    "vscode": {
      "interpreter": {
        "hash": "5974ac25dc9be56ffc04c26f1dcea484687dd3721d1ee5a9c3f4a235d03fe9b9"
      }
    }
  },
  "nbformat": 4,
  "nbformat_minor": 0
}