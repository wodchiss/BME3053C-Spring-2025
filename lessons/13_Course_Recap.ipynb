{
 "cells": [
  {
   "cell_type": "markdown",
   "metadata": {},
   "source": [
    "# BME3053C - Computer Applications for BME\n",
    "\n",
    "<br/>\n",
    "\n",
    "<h1 align=\"center\">Course Recap</h1>\n",
    "\n",
    "---\n",
    "\n",
    "<center><h2>Lesson: 13</h2></center>\n",
    "\n",
    "### Original Lesson Link: [![Open In Colab](https://colab.research.google.com/assets/colab-badge.svg)](https://colab.research.google.com/github/uf-bme/BME3053C-Spring-2025/blob/main/lessons/13_Course_Recap.ipynb)"
   ]
  },
  {
   "cell_type": "markdown",
   "metadata": {},
   "source": [
    "\n",
    "This course covered essential programming and data analysis skills for biomedical engineering across several key areas:\n",
    "\n",
    "#### 1. Programming Fundamentals (Lessons 1-2)\n",
    "- Core Python concepts including variables, control flow, functions, and error handling\n",
    "\n",
    "#### 2. Scientific Computing Tools (Lessons 3-5) \n",
    "- Data visualization with Matplotlib\n",
    "- Numerical computing with NumPy arrays\n",
    "- Data analysis using Pandas DataFrames\n",
    "\n",
    "#### 3. Software Development (Lesson 6)\n",
    "- Building reusable code with Python modules\n",
    "- Managing project dependencies and environments\n",
    "\n",
    "#### 4. Biomedical Applications (Lesson 7)\n",
    "- Matrix operations for medical image processing\n",
    "- Coordinate transformations and spatial analysis\n",
    "\n",
    "#### 5. Modern Development Tools (Lesson 8)\n",
    "- AI-powered code editing\n",
    "- Code completion and suggestions\n",
    "\n",
    "#### 6. Machine Learning (Lessons 9-12)\n",
    "- Supervised learning for medical diagnosis\n",
    "- Unsupervised learning for pattern discovery\n",
    "- Deep learning for medical imaging\n",
    "- Reinforcement learning basics"
   ]
  },
  {
   "cell_type": "markdown",
   "metadata": {},
   "source": [
    "### Docs from Popular Libraries Used in Course\n",
    "- [NumPy Documentation](https://numpy.org/doc/stable/)\n",
    "- [Matplotlib Documentation](https://matplotlib.org/stable/index.html)\n",
    "- [Python Documentation](https://docs.python.org/3/)\n",
    "- [Pandas Documentation](https://pandas.pydata.org/docs/)\n",
    "- [Scikit-learn Documentation](https://scikit-learn.org/stable/)\n",
    "- [PyTorch Documentation](https://pytorch.org/docs/stable/index.html)\n"
   ]
  },
  {
   "cell_type": "markdown",
   "metadata": {},
   "source": [
    "### Further Machine Learning Resources\n",
    "To continue learning about machine learning, check out these helpful resources:\n",
    "- [Google's Machine Learning Crash Course](https://developers.google.com/machine-learning/crash-course)\n",
    "- [Fast.ai's Practical Deep Learning Course](https://course.fast.ai/)\n",
    "- [Stanford CS229: Machine Learning Course](https://cs229.stanford.edu/syllabus-fall2020.html)\n",
    "- [Kaggle Learn Machine Learning](https://www.kaggle.com/learn/machine-learning)\n",
    "- [MIT OpenCourseWare: Introduction to Machine Learning](https://ocw.mit.edu/courses/6-036-introduction-to-machine-learning-fall-2020/)\n",
    "These resources range from beginner-friendly to advanced and offer both theoretical foundations and practical applications in machine learning.\n"
   ]
  },
  {
   "cell_type": "markdown",
   "metadata": {},
   "source": [
    "### Resources to Further Explore Python\n",
    "To deepen your Python programming skills, here are some excellent resources:\n",
    "- [Real Python Tutorials](https://realpython.com/) - Comprehensive Python tutorials and articles\n",
    "- [Python for Everybody](https://www.py4e.com/) - Free course for Python beginners\n",
    "- [Automate the Boring Stuff with Python](https://automatetheboringstuff.com/) - Practical Python programming\n",
    "- [Python Cookbook](https://www.oreilly.com/library/view/python-cookbook-3rd/9781449357337/) - Advanced Python programming recipes\n",
    "- [Python Weekly Newsletter](https://www.pythonweekly.com/) - Weekly Python news and tutorials\n",
    "These resources cover everything from basics to advanced topics and can help you continue your Python journey.\n"
   ]
  },
  {
   "cell_type": "markdown",
   "metadata": {},
   "source": [
    "### Useful GitHub Repositories\n",
    "\n",
    "Some outstanding GitHub repositories for biomedical engineering and data science:\n",
    "\n",
    "#### Biomedical Engineering\n",
    "- [MNE-Python](https://github.com/mne-tools/mne-python) - Processing and visualization of neurophysiological data\n",
    "- [FreeSurfer](https://github.com/freesurfer/freesurfer) - Brain imaging software suite\n",
    "- [NIPYPE](https://github.com/nipy/nipype) - Neuroimaging in Python pipelines and interfaces\n",
    "- [SimpleITK](https://github.com/SimpleITK/SimpleITK) - Medical image processing toolkit\n",
    "\n",
    "#### Data Science & Machine Learning\n",
    "- [scikit-learn](https://github.com/scikit-learn/scikit-learn) - Machine learning in Python\n",
    "- [TensorFlow](https://github.com/tensorflow/tensorflow) - End-to-end machine learning platform\n",
    "- [PyTorch](https://github.com/pytorch/pytorch) - Deep learning framework\n",
    "\n",
    "#### Visualization\n",
    "- [seaborn](https://github.com/mwaskom/seaborn) - Statistical data visualization\n",
    "- [plotly](https://github.com/plotly/plotly.py) - Interactive plotting library\n",
    "- [bokeh](https://github.com/bokeh/bokeh) - Interactive visualization library\n",
    "\n",
    "#### Bioinformatics\n",
    "- [biopython](https://github.com/biopython/biopython) - Tools for biological computation\n",
    "- [scanpy](https://github.com/scverse/scanpy) - Single-cell analysis in Python\n",
    "- [DeepChem](https://github.com/deepchem/deepchem) - Deep learning for drug discovery\n",
    "- [Qiskit](https://github.com/Qiskit/qiskit) - IBM's open source quantum computing framework\n",
    "\n",
    "These repositories are actively maintained and have strong community support. They're excellent resources for both learning and practical applications in biomedical engineering and data science."
   ]
  },
  {
   "cell_type": "markdown",
   "metadata": {},
   "source": [
    "#### EVALS (Please fill out)\n",
    "https://ufl.bluera.com/ufl/"
   ]
  }
 ],
 "metadata": {
  "kernelspec": {
   "display_name": "Python 3",
   "language": "python",
   "name": "python3"
  },
  "language_info": {
   "codemirror_mode": {
    "name": "ipython",
    "version": 3
   },
   "file_extension": ".py",
   "mimetype": "text/x-python",
   "name": "python",
   "nbconvert_exporter": "python",
   "pygments_lexer": "ipython3",
   "version": "3.12.7"
  }
 },
 "nbformat": 4,
 "nbformat_minor": 4
}
