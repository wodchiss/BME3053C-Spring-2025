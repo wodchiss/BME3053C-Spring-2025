{
  "cells": [
    {
      "cell_type": "markdown",
      "id": "456796a4",
      "metadata": {
        "id": "456796a4"
      },
      "source": [
        "# BME3053C Final Study Guide\n",
        "\n",
        "This Jupyter Notebook provides practice problems covering concepts included in the midterm.\n",
        "\n",
        "- Pandas Conditionals\n",
        "- Indexing and Iteration in Pandas\n",
        "- Machine Learning Basics \n",
        "- Evaluation Metrics for Classification\n",
        "- Matrix Transformations\n",
        "\n",
        "\n",
        "### The test will include the following types of questions: \n",
        "- Fill in the blank\n",
        "- matching\n",
        "- True/False"
      ]
    },
    {
      "cell_type": "markdown",
      "id": "53732c80",
      "metadata": {},
      "source": [
        "# Filtering data with conditionals in Pandas\n",
        "Pandas makes it easy to select, analyze, and process subsets of your data based on some condition `C`. This is accomplished with easily understandable syntax: `df[C]` will return a subset of DataFrame `df` that **matches** the condition `C` listed inside brackets `[]`.\n",
        "\n",
        "* we can create filtering criteria using familiar mathematical operators that were used in Python conditionals.\n",
        "\n",
        "* **Helpful Tip:** `.isin(L)`: is equal to any value contained in the list `L`."
      ]
    },
    {
      "cell_type": "code",
      "execution_count": 1,
      "id": "056b5ada",
      "metadata": {},
      "outputs": [
        {
          "data": {
            "text/html": [
              "<div>\n",
              "<style scoped>\n",
              "    .dataframe tbody tr th:only-of-type {\n",
              "        vertical-align: middle;\n",
              "    }\n",
              "\n",
              "    .dataframe tbody tr th {\n",
              "        vertical-align: top;\n",
              "    }\n",
              "\n",
              "    .dataframe thead th {\n",
              "        text-align: right;\n",
              "    }\n",
              "</style>\n",
              "<table border=\"1\" class=\"dataframe\">\n",
              "  <thead>\n",
              "    <tr style=\"text-align: right;\">\n",
              "      <th></th>\n",
              "      <th>A</th>\n",
              "      <th>B</th>\n",
              "      <th>Class</th>\n",
              "    </tr>\n",
              "  </thead>\n",
              "  <tbody>\n",
              "    <tr>\n",
              "      <th>0</th>\n",
              "      <td>89</td>\n",
              "      <td>-0.072757</td>\n",
              "      <td>cat</td>\n",
              "    </tr>\n",
              "    <tr>\n",
              "      <th>1</th>\n",
              "      <td>83</td>\n",
              "      <td>0.601050</td>\n",
              "      <td>dog</td>\n",
              "    </tr>\n",
              "    <tr>\n",
              "      <th>2</th>\n",
              "      <td>17</td>\n",
              "      <td>-0.696675</td>\n",
              "      <td>bird</td>\n",
              "    </tr>\n",
              "    <tr>\n",
              "      <th>3</th>\n",
              "      <td>53</td>\n",
              "      <td>-1.012864</td>\n",
              "      <td>cat</td>\n",
              "    </tr>\n",
              "    <tr>\n",
              "      <th>4</th>\n",
              "      <td>62</td>\n",
              "      <td>-0.011634</td>\n",
              "      <td>dog</td>\n",
              "    </tr>\n",
              "  </tbody>\n",
              "</table>\n",
              "</div>"
            ],
            "text/plain": [
              "    A         B Class\n",
              "0  89 -0.072757   cat\n",
              "1  83  0.601050   dog\n",
              "2  17 -0.696675  bird\n",
              "3  53 -1.012864   cat\n",
              "4  62 -0.011634   dog"
            ]
          },
          "execution_count": 1,
          "metadata": {},
          "output_type": "execute_result"
        }
      ],
      "source": [
        "import pandas as pd\n",
        "import numpy as np\n",
        "\n",
        "# Create a new dataframe with 5 rows and 3 columns\n",
        "df = pd.DataFrame({\n",
        "    'A': np.random.randint(0, 100, size=5),\n",
        "    'B': np.random.randn(5),\n",
        "    'Class': ['cat', 'dog', 'bird', 'cat', 'dog']\n",
        "})\n",
        "df\n"
      ]
    },
    {
      "cell_type": "code",
      "execution_count": 2,
      "id": "92554250",
      "metadata": {},
      "outputs": [
        {
          "name": "stdout",
          "output_type": "stream",
          "text": [
            "Rows where A > 50:\n",
            "    A         B Class\n",
            "0  89 -0.072757   cat\n",
            "1  83  0.601050   dog\n",
            "3  53 -1.012864   cat\n",
            "4  62 -0.011634   dog\n",
            "\n",
            "Rows where A > 30 AND B > 0:\n",
            "    A        B Class\n",
            "1  83  0.60105   dog\n",
            "\n",
            "Rows where Class is 'cat' OR 'dog':\n",
            "Rows with cats and B is negative:\n"
          ]
        }
      ],
      "source": [
        "# Example 1: Filter rows where column A is greater than 50\n",
        "print(\"Rows where A > 50:\")\n",
        "print(df[df['A'] > 50])\n",
        "print()\n",
        "\n",
        "\n",
        "\n",
        "# Example 2: Filter rows with multiple conditions (using & for AND)\n",
        "print(\"Rows where A > 30 AND B > 0:\")\n",
        "print(df[(df['A'] > 30) & (df['B'] > 0)])\n",
        "print()\n",
        "\n",
        "# Example 3: Filter rows with OR condition\n",
        "print(\"Rows where Class is 'cat' OR 'dog':\")\n",
        "\n",
        "# Example 5: Combining filters with column selection\n",
        "print(\"Rows with cats and B is negative:\")\n"
      ]
    },
    {
      "cell_type": "markdown",
      "id": "056fa50a",
      "metadata": {
        "id": "056fa50a"
      },
      "source": [
        "## Indexing and Iteration\n",
        "\n",
        "### Accessing Data in DataFrames\n",
        "\n",
        "- Use `.iloc[]` for integer position-based indexing (e.g., df.iloc[0, 1] for first row, second column)\n",
        "- Use `.loc[]` for label-based indexing (e.g., df.loc['row_label', 'column_name'])\n",
        "\n",
        "- Example:\n",
        "  - df.iloc[0, 1] gets value in first row, second column regardless of labels\n",
        "  - df.loc['A', 'price'] gets value where index='A' and column='price'\n"
      ]
    },
    {
      "cell_type": "code",
      "execution_count": 3,
      "id": "d8ab7277",
      "metadata": {},
      "outputs": [
        {
          "data": {
            "text/html": [
              "<div>\n",
              "<style scoped>\n",
              "    .dataframe tbody tr th:only-of-type {\n",
              "        vertical-align: middle;\n",
              "    }\n",
              "\n",
              "    .dataframe tbody tr th {\n",
              "        vertical-align: top;\n",
              "    }\n",
              "\n",
              "    .dataframe thead th {\n",
              "        text-align: right;\n",
              "    }\n",
              "</style>\n",
              "<table border=\"1\" class=\"dataframe\">\n",
              "  <thead>\n",
              "    <tr style=\"text-align: right;\">\n",
              "      <th></th>\n",
              "      <th>A</th>\n",
              "      <th>B</th>\n",
              "      <th>Class</th>\n",
              "    </tr>\n",
              "  </thead>\n",
              "  <tbody>\n",
              "    <tr>\n",
              "      <th>0</th>\n",
              "      <td>89</td>\n",
              "      <td>-0.072757</td>\n",
              "      <td>cat</td>\n",
              "    </tr>\n",
              "    <tr>\n",
              "      <th>1</th>\n",
              "      <td>83</td>\n",
              "      <td>0.601050</td>\n",
              "      <td>dog</td>\n",
              "    </tr>\n",
              "    <tr>\n",
              "      <th>2</th>\n",
              "      <td>17</td>\n",
              "      <td>-0.696675</td>\n",
              "      <td>bird</td>\n",
              "    </tr>\n",
              "    <tr>\n",
              "      <th>3</th>\n",
              "      <td>53</td>\n",
              "      <td>-1.012864</td>\n",
              "      <td>cat</td>\n",
              "    </tr>\n",
              "    <tr>\n",
              "      <th>4</th>\n",
              "      <td>62</td>\n",
              "      <td>-0.011634</td>\n",
              "      <td>dog</td>\n",
              "    </tr>\n",
              "  </tbody>\n",
              "</table>\n",
              "</div>"
            ],
            "text/plain": [
              "    A         B Class\n",
              "0  89 -0.072757   cat\n",
              "1  83  0.601050   dog\n",
              "2  17 -0.696675  bird\n",
              "3  53 -1.012864   cat\n",
              "4  62 -0.011634   dog"
            ]
          },
          "execution_count": 3,
          "metadata": {},
          "output_type": "execute_result"
        }
      ],
      "source": [
        "df"
      ]
    },
    {
      "cell_type": "code",
      "execution_count": 4,
      "id": "d5eed13f",
      "metadata": {},
      "outputs": [
        {
          "name": "stdout",
          "output_type": "stream",
          "text": [
            "First row, second column using iloc:\n",
            "-0.07275686703851321\n",
            "\n",
            "Accessing row 0, column 'B' using loc:\n",
            "-0.07275686703851321\n",
            "\n",
            "First 3 rows, columns 0 and 2 using iloc:\n",
            "\n",
            "\n",
            "First 3 rows, columns 'A' and 'Class' using loc:\n",
            "\n",
            "\n"
          ]
        }
      ],
      "source": [
        "# Example 1: Using iloc for integer-based indexing\n",
        "print(\"First row, second column using iloc:\")\n",
        "print(df.iloc[0, 1])\n",
        "print()\n",
        "\n",
        "# Example 2: Using loc for label-based indexing\n",
        "print(\"Accessing row 0, column 'B' using loc:\")\n",
        "print(df.loc[0, 'B'])\n",
        "print()\n",
        "\n",
        "# Example 3: Selecting multiple rows and columns with iloc\n",
        "print(\"First 3 rows, columns 0 and 2 using iloc:\")\n",
        "print()\n",
        "print()\n",
        "\n",
        "# Example 4: Selecting multiple rows and columns with loc\n",
        "# NOT ON TEST\n",
        "print(\"First 3 rows, columns 'A' and 'Class' using loc:\")\n",
        "print()\n",
        "print()\n",
        "\n"
      ]
    },
    {
      "cell_type": "markdown",
      "id": "f2300d4b",
      "metadata": {},
      "source": [
        "## Types of Machine Learning\n",
        "### Supervised Learning\n",
        "- Learning from labeled data\n",
        "- Algorithm is trained on input-output pairs\n",
        "- Goal: Learn a mapping from inputs to outputs\n",
        "- Examples: Classification, Regression\n",
        "### Unsupervised Learning\n",
        "- Learning from unlabeled data\n",
        "- Algorithm finds patterns or structure in data on its own\n",
        "- Goal: Discover hidden patterns or intrinsic structures\n",
        "- Examples: Clustering, Dimensionality reduction, Association\n",
        "### Reinforcement Learning\n",
        "- Learning through interaction with an environment\n",
        "- Agent learns by receiving rewards or penalties\n",
        "- Goal: Learn a policy that maximizes cumulative reward\n"
      ]
    },
    {
      "cell_type": "markdown",
      "id": "5104738b",
      "metadata": {},
      "source": [
        "## Data Splitting in Machine Learning\n",
        "\n",
        "### Training Set\n",
        "- The portion of data used to train the model\n",
        "- Typically 60-80% of the available data\n",
        "- The model learns patterns, relationships, and parameters from this data\n",
        "- Used to fit the model's parameters through optimization algorithms\n",
        "\n",
        "### Validation Set\n",
        "- Used to tune hyperparameters and evaluate model performance during development\n",
        "- Typically 10-20% of the available data\n",
        "- Helps prevent overfitting by providing an unbiased evaluation during training\n",
        "- Used for model selection, early stopping, and hyperparameter tuning\n",
        "\n",
        "### Test Set\n",
        "- Completely separate data used for final model evaluation\n",
        "- Typically 10-20% of the available data\n",
        "- Never used during model training or tuning\n",
        "- Provides an unbiased estimate of model performance on unseen data\n",
        "- Simulates how the model will perform in real-world applications\n",
        "\n",
        "### Importance of Proper Data Splitting\n",
        "- Ensures model generalizability to new, unseen data\n",
        "- Helps detect and prevent overfitting\n",
        "- Provides reliable performance metrics for model evaluation\n",
        "- Critical for building robust and trustworthy machine learning models\n",
        "\n",
        "\n",
        "### Model Performance Reporting Best Practices\n",
        "\n",
        "- **Always report performance metrics on the test set only**, never on training or validation data\n",
        "- Test set results provide an unbiased estimate of how your model will perform on new, unseen data\n",
        "- Reporting training set performance can be misleading as it doesn't reflect generalization ability\n"
      ]
    },
    {
      "cell_type": "markdown",
      "id": "0c8ede12",
      "metadata": {},
      "source": [
        "## Confusion Matrices and Classification Metrics\n",
        "\n",
        "### Confusion Matrix\n",
        "- A table that visualizes the performance of a classification model\n",
        "- Shows the counts of true positives (TP), true negatives (TN), false positives (FP), and false negatives (FN)\n",
        "- Rows represent actual classes, columns represent predicted classes\n",
        "- Helps identify which classes are being confused by the model\n",
        "\n",
        "### Classification Metrics\n",
        "- **Accuracy**: Overall correctness of the model\n",
        "- **Precision**: Proportion of positive identifications that were actually correct\n",
        "- **Recall (Sensitivity)**: Proportion of actual positives that were correctly identified\n",
        "- **F1 Score**: Harmonic mean of precision and recall\n",
        "\n",
        "### Interpreting Confusion Matrices\n",
        "- Diagonal elements represent correct predictions\n",
        "- Off-diagonal elements represent misclassifications\n",
        "- Useful for understanding model performance, especially with imbalanced datasets\n",
        "- Helps identify specific types of errors the model is making\n"
      ]
    },
    {
      "cell_type": "markdown",
      "id": "d7e89a53",
      "metadata": {},
      "source": [
        "<center><image src=\"https://github.com/uf-bme/bme3053c/raw/main/files/confusion_matrix.png\" height=\"300\"/></center>\n"
      ]
    },
    {
      "cell_type": "code",
      "execution_count": 5,
      "id": "4572e785",
      "metadata": {},
      "outputs": [
        {
          "name": "stdout",
          "output_type": "stream",
          "text": [
            "Combined Results DataFrame:\n",
            "   Ground_Truth  Prediction\n",
            "0             0           0\n",
            "1             1           0\n",
            "2             1           1\n",
            "3             0           0\n",
            "4             0           1\n",
            "5             0           0\n",
            "6             1           1\n",
            "7             1           0\n",
            "8             1           1\n",
            "9             0           0\n",
            "\n",
            "Confusion Matrix:\n",
            "[[4 1]\n",
            " [2 3]]\n"
          ]
        },
        {
          "data": {
            "image/png": "[encoded data removed]",
            "text/plain": [
              "<Figure size 640x480 with 2 Axes>"
            ]
          },
          "metadata": {},
          "output_type": "display_data"
        }
      ],
      "source": [
        "import numpy as np\n",
        "import matplotlib.pyplot as plt\n",
        "import pandas as pd\n",
        "from sklearn.metrics import confusion_matrix, ConfusionMatrixDisplay\n",
        "\n",
        "# Create ground truth labels (actual values)\n",
        "y_true = np.array([0, 1, 1, 0, 0, 0, 1, 1, 1, 0])\n",
        "\n",
        "# Create predicted labels (model predictions)\n",
        "y_pred = np.array([0, 0, 1, 0, 1, 0,1, 0,1,0])\n",
        "\n",
        "# Combine into a DataFrame\n",
        "results_df = pd.DataFrame({\n",
        "    'Ground_Truth': y_true,\n",
        "    'Prediction': y_pred\n",
        "})\n",
        "\n",
        "# Display the DataFrame\n",
        "print(\"Combined Results DataFrame:\")\n",
        "print(results_df)\n",
        "\n",
        "# Create and display confusion matrix\n",
        "cm = confusion_matrix(y_true, y_pred)\n",
        "print(\"\\nConfusion Matrix:\")\n",
        "print(cm)\n",
        "\n",
        "# Visualize the confusion matrix\n",
        "disp = ConfusionMatrixDisplay(confusion_matrix=cm, display_labels=['Positive', 'Negative'])\n",
        "disp.plot(cmap='Blues')\n",
        "plt.title('Confusion Matrix for Binary Classification')\n",
        "plt.show()\n"
      ]
    },
    {
      "cell_type": "markdown",
      "id": "87f0d470",
      "metadata": {},
      "source": [
        "- **Accuracy**: The proportion of correctly classified samples.\n",
        "\n",
        "$Accuracy = \\frac{TP + TN}{TP + TN + FP + FN}$\n"
      ]
    },
    {
      "cell_type": "code",
      "execution_count": 6,
      "id": "32f14d7d",
      "metadata": {},
      "outputs": [
        {
          "name": "stdout",
          "output_type": "stream",
          "text": [
            "Accuracy: 0.7000\n"
          ]
        }
      ],
      "source": [
        "# Calculate accuracy from the confusion matrix\n",
        "# Confusion matrix format:\n",
        "# [[TN, FP],\n",
        "#  [FN, TP]]\n",
        "\n",
        "# Extract values from confusion matrix\n",
        "tp, fn = cm[0]\n",
        "fp, tn = cm[1]\n",
        "\n",
        "# Calculate accuracy\n",
        "accuracy = (tp + tn) / (tp + tn + fp + fn)\n",
        "\n",
        "# Display result\n",
        "print(f\"Accuracy: {accuracy:.4f}\")\n"
      ]
    },
    {
      "cell_type": "markdown",
      "id": "3c361f06",
      "metadata": {},
      "source": [
        "- **Precision and Recall**:\n",
        "  - **Precision**: The proportion of positive predictions that are actually correct. It answers the question \"Of all cases we predicted as positive, what fraction were truly positive?\"\n",
        "    - $Precision = \\frac{TP}{TP + FP}$\n",
        "  - **Recall**: The proportion of actual positive cases that were correctly identified. It answers the question \"Of all the actual positive cases, what fraction did we catch?\"\n",
        "    - $Recall = \\frac{TP}{TP + FN}$\n",
        "  - In medical contexts, high precision means fewer false alarms, while high recall means fewer missed diagnoses.\n"
      ]
    },
    {
      "cell_type": "code",
      "execution_count": 7,
      "id": "61e8a834",
      "metadata": {},
      "outputs": [
        {
          "name": "stdout",
          "output_type": "stream",
          "text": [
            "Precision: 0.6667\n",
            "Recall: 0.8000\n",
            "2\n"
          ]
        }
      ],
      "source": [
        "# Calculate precision and recall from the confusion matrix\n",
        "# Confusion matrix format:\n",
        "# [[TN, FP],\n",
        "#  [FN, TP]]\n",
        "\n",
        "# Extract values from confusion matrix\n",
        "tp, fn = cm[0]\n",
        "fp, tn = cm[1]\n",
        "\n",
        "# Calculate precision\n",
        "precision = tp / (tp + fp)\n",
        "\n",
        "# Calculate recall\n",
        "recall = tp / (tp + fn)\n",
        "\n",
        "# Display results\n",
        "print(f\"Precision: {precision:.4f}\")\n",
        "print(f\"Recall: {recall:.4f}\")\n",
        "print(fp)\n"
      ]
    },
    {
      "cell_type": "markdown",
      "id": "889ec232",
      "metadata": {},
      "source": [
        "- **F1 Score**: The harmonic mean of precision and recall, useful for imbalanced classes.\n",
        "\n",
        "$F1 = 2 \\times \\frac{Precision \\times Recall}{Precision + Recall}$\n",
        "\n",
        "In biomedical applications, high accuracy and recall are often critical, as false negatives (missed cases) could have serious consequences.\n",
        "\n"
      ]
    },
    {
      "cell_type": "code",
      "execution_count": 8,
      "id": "4cea0973",
      "metadata": {},
      "outputs": [
        {
          "name": "stdout",
          "output_type": "stream",
          "text": [
            "F1 Score: 0.7273\n"
          ]
        }
      ],
      "source": [
        "# Calculate F1 score using precision and recall\n",
        "f1_score = 2 * (precision * recall) / (precision + recall)\n",
        "\n",
        "# Display result\n",
        "print(f\"F1 Score: {f1_score:.4f}\")\n"
      ]
    },
    {
      "cell_type": "markdown",
      "id": "4ea9f93a",
      "metadata": {},
      "source": [
        "## Transformation Matrices in Homogeneous Coordinates\n",
        "<center><img  src=\"https://github.com/uf-bme/bme3053c/raw/main/files/2D_affine_transformation_matrix.svg\" alt='Matrix Transformations'/></center>"
      ]
    },
    {
      "cell_type": "markdown",
      "id": "b1ca7c15",
      "metadata": {},
      "source": [
        "### Example: Rotation + Scaling + Translation\n",
        "We can also combine rotation, scaling, and translation in one step by multiplying their respective matrices together:\n",
        "\n",
        "\n",
        "$$Combined=T⋅S⋅R(θ)$$\n",
        "\n",
        "This order applies the rotation first, then scaling, and finally translation."
      ]
    },
    {
      "cell_type": "code",
      "execution_count": 9,
      "id": "1ee300d9",
      "metadata": {},
      "outputs": [],
      "source": [
        "import numpy as np\n",
        "\n",
        "import matplotlib.pyplot as plt\n",
        "\n",
        "# Enable inline plotting\n",
        "%matplotlib inline\n",
        "\n",
        "def generate_star(center=(0, 0), num_points=5, outer_radius=1, inner_radius=0.5,homogeneous=False):\n",
        "    '''\n",
        "    This function generates the coordinates of a star shape based on the specified number of points,\n",
        "    outer radius, inner radius, and center coordinates. The star is created by alternating between the\n",
        "    outer and inner radii at calculated angles, resulting in a visually appealing star pattern.\n",
        "    '''\n",
        "    angles = np.linspace(np.pi/2, 5*np.pi/2, num_points*2, endpoint=False)\n",
        "    radii = np.array([outer_radius, inner_radius] * num_points)\n",
        "    x = radii * np.cos(angles) + center[0]\n",
        "    y = radii * np.sin(angles) + center[1]\n",
        "    return np.column_stack((x, y)) if not homogeneous else np.column_stack((x, y, np.ones(num_points*2)))\n",
        "\n",
        "def plot_star(ax, star, title,global_view):\n",
        "    ax.plot(star[:, 0], star[:, 1], 'b-')\n",
        "    ax.plot([star[-1, 0], star[0, 0]], [star[-1, 1], star[0, 1]], 'b-')  # Connect last to first\n",
        "    ax.set_title(title)\n",
        "    ax.axis('equal')\n",
        "    if global_view:\n",
        "      ax.set_xlim(-10,10)\n",
        "      ax.set_ylim(-10,10)\n",
        "      ax.axhline(0, color='black')\n",
        "      ax.axvline(0, color='black')\n",
        "\n",
        "    ax.grid(True)  # Add grid\n",
        "\n",
        "    star_center = np.mean(star, axis=0)\n",
        "    arrow_start = star_center\n",
        "\n",
        "    vector_to_point = star[0] - star_center\n",
        "    direction = vector_to_point/np.linalg.norm(vector_to_point)  # Normalize the direction vector\n",
        "    arrow_length = np.linalg.norm(vector_to_point)/2\n",
        "    arrow_end = star_center + (arrow_length) * direction\n",
        "    headwidth=6 if global_view else 8\n",
        "    width = 1 if global_view else 2\n",
        "    ###########################################\n",
        "    ax.annotate('', xy=arrow_end, xytext=arrow_start,\n",
        "                arrowprops=dict(facecolor='green', shrink=0.05, width=width, headwidth=headwidth))\n",
        "\n",
        "def plot_stars(stars,global_view=False):\n",
        "    if len(stars) == 1 or not isinstance(stars, list):\n",
        "        print(\"There must be a list of multiple stars to plot\")\n",
        "        return\n",
        "    num_stars = len(stars)\n",
        "    fig, axs = plt.subplots(1, num_stars, figsize=(10, 5))\n",
        "    for i, star in enumerate(stars):\n",
        "        plot_star(axs[i], star[:,:2], f'Star {i+1}',global_view)\n",
        "\n",
        "def rotate(angle_degrees):\n",
        "    angle_radians = np.radians(angle_degrees)\n",
        "    cos_theta = np.cos(angle_radians)\n",
        "    sin_theta = np.sin(angle_radians)\n",
        "    return np.array([\n",
        "        [cos_theta, -sin_theta,0],\n",
        "        [sin_theta, cos_theta,0],\n",
        "        [0,0,1],\n",
        "    ])\n",
        "\n",
        "\n",
        "def scale(sx,sy):\n",
        "    return np.array([\n",
        "        [sx, 0,0],\n",
        "        [0, sy,0],\n",
        "        [0,0,1],\n",
        "    ])\n",
        "\n",
        "def translate(tx, ty):\n",
        "    return np.array([\n",
        "        [1, 0, tx],\n",
        "        [0, 1, ty],\n",
        "        [0, 0, 1]\n",
        "    ])"
      ]
    },
    {
      "cell_type": "code",
      "execution_count": 10,
      "id": "2682316a",
      "metadata": {},
      "outputs": [
        {
          "data": {
            "image/png": "[encoded data removed]",
            "text/plain": [
              "<Figure size 1000x500 with 2 Axes>"
            ]
          },
          "metadata": {},
          "output_type": "display_data"
        }
      ],
      "source": [
        "star=generate_star(homogeneous=True)\n",
        "\n",
        "combined_transform =  translate(1,2) @scale(2,2)@ rotate(45)\n",
        "\n",
        "transformed_star = (combined_transform @ star.T).T\n",
        "\n",
        "plot_stars([star,transformed_star])"
      ]
    },
    {
      "cell_type": "code",
      "execution_count": 11,
      "id": "0d18e656",
      "metadata": {},
      "outputs": [
        {
          "data": {
            "image/png": "[encoded data removed]",
            "text/plain": [
              "<Figure size 1000x500 with 2 Axes>"
            ]
          },
          "metadata": {},
          "output_type": "display_data"
        }
      ],
      "source": [
        "star=generate_star(center=(1,1),homogeneous=True)\n",
        "\n",
        "combined_transform =  translate(1,2) @ rotate(-45)@translate(-1,-1)\n",
        "\n",
        "transformed_star = (combined_transform @ star.T).T\n",
        "\n",
        "plot_stars([star,transformed_star])"
      ]
    },
    {
      "cell_type": "code",
      "execution_count": 12,
      "id": "1812308a",
      "metadata": {},
      "outputs": [
        {
          "ename": "SyntaxError",
          "evalue": "invalid syntax (338451087.py, line 3)",
          "output_type": "error",
          "traceback": [
            "\u001b[1;36m  Cell \u001b[1;32mIn[12], line 3\u001b[1;36m\u001b[0m\n\u001b[1;33m    combined_transform =\u001b[0m\n\u001b[1;37m                        ^\u001b[0m\n\u001b[1;31mSyntaxError\u001b[0m\u001b[1;31m:\u001b[0m invalid syntax\n"
          ]
        }
      ],
      "source": [
        "star=generate_star(center=(2,2),homogeneous=True)\n",
        "\n",
        "combined_transform =\n",
        "\n",
        "transformed_star = (combined_transform @ star.T).T\n",
        "\n",
        "plot_stars([star,transformed_star])"
      ]
    },
    {
      "cell_type": "markdown",
      "id": "fe034700",
      "metadata": {
        "id": "fe034700"
      },
      "source": [
        "## **Good luck!**\n"
      ]
    }
  ],
  "metadata": {
    "colab": {
      "provenance": []
    },
    "kernelspec": {
      "display_name": ".venv",
      "language": "python",
      "name": "python3"
    },
    "language_info": {
      "codemirror_mode": {
        "name": "ipython",
        "version": 3
      },
      "file_extension": ".py",
      "mimetype": "text/x-python",
      "name": "python",
      "nbconvert_exporter": "python",
      "pygments_lexer": "ipython3",
      "version": "3.12.7"
    },
    "name": "BME3053C-midterm-study-guide-alternate"
  },
  "nbformat": 4,
  "nbformat_minor": 5
}
